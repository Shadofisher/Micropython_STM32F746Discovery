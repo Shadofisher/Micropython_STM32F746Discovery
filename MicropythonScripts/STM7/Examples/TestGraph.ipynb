{
 "cells": [
  {
   "cell_type": "code",
   "execution_count": 1,
   "metadata": {},
   "outputs": [
    {
     "name": "stdout",
     "output_type": "stream",
     "text": [
      "\u001b[31mNo serial connected\n",
      "\u001b[0m  %serialconnect to connect\n",
      "  %esptool to flash the device\n",
      "  %lsmagic to list commands"
     ]
    }
   ],
   "source": [
    "import pyb\n"
   ]
  },
  {
   "cell_type": "code",
   "execution_count": 82,
   "metadata": {},
   "outputs": [
    {
     "name": "stdout",
     "output_type": "stream",
     "text": [
      "Found serial ports: /dev/ttyACM1, /dev/ttyS0 \n",
      "\u001b[34mConnecting to --port=/dev/ttyACM1 --baud=115200 \u001b[0m\n",
      "\u001b[34mReady.\n",
      "\u001b[0m"
     ]
    }
   ],
   "source": [
    "%serialconnect =/dev/ACM0"
   ]
  },
  {
   "cell_type": "code",
   "execution_count": 19,
   "metadata": {},
   "outputs": [],
   "source": [
    "import pyb"
   ]
  },
  {
   "cell_type": "code",
   "execution_count": 83,
   "metadata": {},
   "outputs": [],
   "source": [
    "def drawLineThick(x0,y0,x1,y1,colour):\n",
    "    x_interval = abs(x1-x0); \n",
    "    y_interval = abs(y1-y0);\n",
    "\n",
    "    if x_interval >= y_interval:\n",
    "        interval = x_interval;\n",
    "    else:\n",
    "        interval = y_interval;\n",
    "  \n",
    "    for a in range((interval)):\n",
    "        #print(a);\n",
    "        #print(interval);\n",
    "        signx=1;\n",
    "        signy=1;\n",
    "        if x_interval >= y_interval:\n",
    "            if (x0>x1):\n",
    "                signx=-1\n",
    "            if (y0>y1):\n",
    "                signy=-1\n",
    "            new_y = y0 + int(a*(y1-y0)/(interval));\n",
    "            new_x = (x0+a*signx);\n",
    "            #print('New_X',new_x);\n",
    "            #print('New_y',new_y);\n",
    "                \n",
    "            #led.toggle()\n",
    "            lcd.thickpixels(new_x,new_y,colour);\n",
    "            #print('X greater')\n",
    "        else:\n",
    "            if (x0>x1):\n",
    "                signx=-1\n",
    "            if (y0>y1):\n",
    "                signy=-1\n",
    "            #new_x = x0+int((signx*a*abs(x1-x0)/(interval)));\n",
    "            new_x = x0 + int(a*(x1-x0)/(interval));\n",
    "            new_y = (y0+a*signy);\n",
    "            #print('New_X',new_x);\n",
    "            #print('New_y',new_y);\n",
    "\n",
    "            #led.toggle()    \n",
    "            lcd.thickpixels(new_x,new_y,colour);\n",
    "            #print('Y greate')\n",
    "\n",
    "            #print(signx)\n",
    "            #print(signy)\n",
    "\n",
    "def drawLine(x0,y0,x1,y1,colour):\n",
    "    x_interval = abs(x1-x0); \n",
    "    y_interval = abs(y1-y0);\n",
    "\n",
    "    if x_interval >= y_interval:\n",
    "        interval = x_interval;\n",
    "    else:\n",
    "        interval = y_interval;\n",
    "  \n",
    "    for a in range((interval)):\n",
    "        #print(a);\n",
    "        #print(interval);\n",
    "        signx=1;\n",
    "        signy=1;\n",
    "        if x_interval >= y_interval:\n",
    "            if (x0>x1):\n",
    "                signx=-1\n",
    "            if (y0>y1):\n",
    "                signy=-1\n",
    "            new_y = y0 + int(a*(y1-y0)/(interval));\n",
    "            new_x = (x0+a*signx);\n",
    "            #print('New_X',new_x);\n",
    "            #print('New_y',new_y);\n",
    "                \n",
    "            #led.toggle()\n",
    "            lcd.pixels(new_x,new_y,colour);\n",
    "            #print('X greater')\n",
    "        else:\n",
    "            if (x0>x1):\n",
    "                signx=-1\n",
    "            if (y0>y1):\n",
    "                signy=-1\n",
    "            #new_x = x0+int((signx*a*abs(x1-x0)/(interval)));\n",
    "            new_x = x0 + int(a*(x1-x0)/(interval));\n",
    "            new_y = (y0+a*signy);\n",
    "            #print('New_X',new_x);\n",
    "            #print('New_y',new_y);\n",
    "\n",
    "            #led.toggle()    \n",
    "            lcd.pixels(new_x,new_y,colour);\n",
    "            #print('Y greate')\n",
    "            #print(signx)\n",
    "            #print(signy)\n",
    "\n",
    "def animateClear(colour):\n",
    "    a=0;\n",
    "    for r in range(320):\n",
    "        drawLine(0,r,480,r,colour)\n",
    "\n",
    "def drawGraph():\n",
    "    x = 20;\n",
    "    animateClear(0x1c);\n",
    "    drawLineThick(18,10,18,160,0xffffff);\n",
    "    drawLineThick(18,160,460,160,0xffffff);\n",
    "    for n in range(20,2000):\n",
    "        y = int(math.sin(math.radians(n))*50)\n",
    "        z = int(math.cos(math.radians(n*3))*50)\n",
    "        r = int(math.cos(math.radians(n*2))*50)\n",
    "        lcd.pixels(x,y+100,0xff00ff)\n",
    "        lcd.pixels(x,z+100,0x00ffff)\n",
    "        lcd.pixels(x,r+100,0xffffff)\n",
    "        pyb.delay(15);\n",
    "        if n <460:\n",
    "            x=n;\n",
    "\n",
    "        else:\n",
    "            x=460;\n",
    "            lcd.memmove(20,40,461,160)\n",
    "            lcd.pixels(460,y+100,0x1c);\n",
    "            lcd.pixels(460,z+100,0x1c);\n",
    "            lcd.pixels(460,r+100,0x1c);"
   ]
  },
  {
   "cell_type": "code",
   "execution_count": 84,
   "metadata": {},
   "outputs": [],
   "source": [
    "import pyb\n",
    "import math\n",
    "from pyb import LCD\n",
    "lcd=LCD(0)"
   ]
  },
  {
   "cell_type": "code",
   "execution_count": 30,
   "metadata": {},
   "outputs": [],
   "source": [
    "lcd.clear(0x00ff00)"
   ]
  },
  {
   "cell_type": "code",
   "execution_count": null,
   "metadata": {},
   "outputs": [
    {
     "name": "stdout",
     "output_type": "stream",
     "text": [
      ".."
     ]
    }
   ],
   "source": [
    "drawGraph()"
   ]
  },
  {
   "cell_type": "code",
   "execution_count": null,
   "metadata": {},
   "outputs": [],
   "source": []
  },
  {
   "cell_type": "code",
   "execution_count": null,
   "metadata": {},
   "outputs": [],
   "source": []
  }
 ],
 "metadata": {
  "kernelspec": {
   "display_name": "MicroPython - USB",
   "language": "micropython",
   "name": "micropython"
  },
  "language_info": {
   "codemirror_mode": "python",
   "file_extension": ".py",
   "mimetype": "text/python",
   "name": "micropython"
  }
 },
 "nbformat": 4,
 "nbformat_minor": 2
}
